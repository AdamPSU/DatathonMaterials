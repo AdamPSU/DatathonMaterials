{
 "cells": [
  {
   "cell_type": "markdown",
   "id": "b7fb4853",
   "metadata": {},
   "source": [
    "# t-SNE Animations\n",
    "`openTSNE` includes a callback system, with can be triggered every `n` iterations and can also be used to control optimization and when to stop.\n",
    "\n",
    "In this notebook, we'll look at an example and use callbacks to generate an animation of the optimization. In practice, this serves no real purpose other than being fun to look at."
   ]
  },
  {
   "cell_type": "code",
   "execution_count": null,
   "id": "8953f8f5",
   "metadata": {},
   "outputs": [],
   "source": [
    "import matplotlib.pyplot as plt\n",
    "import matplotlib.animation as animation\n",
    "import pandas as pd \n",
    "import numpy as np\n",
    "\n",
    "from openTSNE import TSNE\n",
    "from sklearn.preprocessing import OrdinalEncoder"
   ]
  },
  {
   "cell_type": "markdown",
   "id": "15d5c8aa",
   "metadata": {},
   "source": [
    "# Load Data"
   ]
  },
  {
   "cell_type": "code",
   "execution_count": null,
   "id": "037c6df7",
   "metadata": {},
   "outputs": [],
   "source": [
    "df = pd.read_csv(\"../data/loan_approval.csv\")\n",
    "\n",
    "X = df.drop('loan_status', axis=1)\n",
    "y = df['loan_status']\n",
    "\n",
    "cat_cols = X.select_dtypes(include=['object', 'category']).columns\n",
    "\n",
    "encoder = OrdinalEncoder()\n",
    "X[cat_cols] = encoder.fit_transform(X[cat_cols])\n",
    "\n",
    "X = np.array(X)\n",
    "y = np.array(y)"
   ]
  },
  {
   "cell_type": "code",
   "execution_count": null,
   "id": "b8574901",
   "metadata": {},
   "outputs": [],
   "source": [
    "embeddings = []\n",
    "\n",
    "tsne = TSNE(\n",
    "    n_jobs=32,\n",
    "     # The embedding will be appended to the list we defined above, make sure we copy the\n",
    "    # embedding, otherwise the same object reference will be stored for every iteration\n",
    "    callbacks=lambda it, err, emb: embeddings.append(np.array(emb)),\n",
    "    # This should be done on every iteration\n",
    "    callbacks_every_iters=1,\n",
    ")\n",
    "\n",
    "tsne_embedding = tsne.fit(X)"
   ]
  },
  {
   "cell_type": "code",
   "execution_count": null,
   "id": "311050e4",
   "metadata": {},
   "outputs": [],
   "source": [
    "fig, ax = plt.subplots(figsize=(7, 7))\n",
    "ax.set_xticks([]), ax.set_yticks([])\n",
    "\n",
    "color_map = {0: 'blue', 1: 'red'}\n",
    "colors = list(map(color_map.get, y))\n",
    "pathcol = ax.scatter(embeddings[0][:, 0], embeddings[0][:, 1], c=colors, s=1, rasterized=True)\n",
    "\n",
    "def update(embedding, ax, pathcol):\n",
    "    # Update point positions\n",
    "    pathcol.set_offsets(embedding)\n",
    "    \n",
    "    # Adjust x/y limits so all the points are visible\n",
    "    ax.set_xlim(np.min(embedding[:, 0]), np.max(embedding[:, 0]))\n",
    "    ax.set_ylim(np.min(embedding[:, 1]), np.max(embedding[:, 1]))\n",
    "    \n",
    "    return [pathcol]\n",
    "\n",
    "anim = animation.FuncAnimation(\n",
    "    fig, update, fargs=(ax, pathcol), interval=20,\n",
    "    frames=embeddings, blit=True,\n",
    ")\n",
    "\n",
    "anim.save(\"sample_vid.mp4\", dpi=150, writer=\"ffmpeg\")\n",
    "plt.close()"
   ]
  }
 ],
 "metadata": {
  "kernelspec": {
   "display_name": "venv",
   "language": "python",
   "name": "python3"
  },
  "language_info": {
   "codemirror_mode": {
    "name": "ipython",
    "version": 3
   },
   "file_extension": ".py",
   "mimetype": "text/x-python",
   "name": "python",
   "nbconvert_exporter": "python",
   "pygments_lexer": "ipython3",
   "version": "3.11.9"
  }
 },
 "nbformat": 4,
 "nbformat_minor": 5
}
