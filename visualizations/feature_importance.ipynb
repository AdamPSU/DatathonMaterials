{
 "cells": [
  {
   "cell_type": "code",
   "execution_count": 8,
   "id": "668ee639",
   "metadata": {},
   "outputs": [],
   "source": [
    "import pandas as pd\n",
    "import matplotlib.pyplot as plt \n",
    "import seaborn as sns \n",
    "\n",
    "from autogluon.tabular import TabularPredictor"
   ]
  },
  {
   "cell_type": "markdown",
   "id": "9ebd5d3f",
   "metadata": {},
   "source": [
    "# Feature Importances"
   ]
  },
  {
   "cell_type": "code",
   "execution_count": 2,
   "id": "1f67a32a",
   "metadata": {},
   "outputs": [
    {
     "name": "stderr",
     "output_type": "stream",
     "text": [
      "No path specified. Models will be saved in: \"AutogluonModels\\ag-20250411_062141\"\n",
      "Verbosity: 2 (Standard Logging)\n",
      "=================== System Info ===================\n",
      "AutoGluon Version:  1.2\n",
      "Python Version:     3.11.9\n",
      "Operating System:   Windows\n",
      "Platform Machine:   AMD64\n",
      "Platform Version:   10.0.26100\n",
      "CPU Count:          16\n",
      "Memory Avail:       1.18 GB / 15.24 GB (7.8%)\n",
      "Disk Space Avail:   6.74 GB / 453.79 GB (1.5%)\n",
      "\tWARNING: Available disk space is low and there is a risk that AutoGluon will run out of disk during fit, causing an exception. \n",
      "\tWe recommend a minimum available disk space of 10 GB, and large datasets may require more.\n",
      "===================================================\n",
      "No presets specified! To achieve strong results with AutoGluon, it is recommended to use the available presets. Defaulting to `'medium'`...\n",
      "\tRecommended Presets (For more details refer to https://auto.gluon.ai/stable/tutorials/tabular/tabular-essentials.html#presets):\n",
      "\tpresets='experimental' : New in v1.2: Pre-trained foundation model + parallel fits. The absolute best accuracy without consideration for inference speed. Does not support GPU.\n",
      "\tpresets='best'         : Maximize accuracy. Recommended for most users. Use in competitions and benchmarks.\n",
      "\tpresets='high'         : Strong accuracy with fast inference speed.\n",
      "\tpresets='good'         : Good accuracy with very fast inference speed.\n",
      "\tpresets='medium'       : Fast training time, ideal for initial prototyping.\n",
      "Warning: Training may take a very long time because `time_limit` was not specified and `train_data` is large (750000 samples, 331.37 MB).\n",
      "\tConsider setting `time_limit` to ensure training finishes within an expected duration or experiment with a small portion of `train_data` to identify an ideal `presets` and `hyperparameters` configuration.\n",
      "Beginning AutoGluon training ...\n",
      "AutoGluon will save models to \"c:\\Users\\admr0\\GitHub\\DatathonMaterials\\visualizations\\AutogluonModels\\ag-20250411_062141\"\n",
      "Train Data Rows:    750000\n",
      "Train Data Columns: 11\n",
      "Label Column:       Listening_Time_minutes\n",
      "AutoGluon infers your prediction problem is: 'regression' (because dtype of label-column == float and many unique label-values observed).\n",
      "\tLabel info (max, min, mean, stddev): (119.97, 0.0, 45.43741, 27.13831)\n",
      "\tIf 'regression' is not the correct problem_type, please manually specify the problem_type parameter during Predictor init (You may specify problem_type as one of: ['binary', 'multiclass', 'regression', 'quantile'])\n",
      "Problem Type:       regression\n",
      "Preprocessing data ...\n",
      "Using Feature Generators to preprocess the data ...\n",
      "Fitting AutoMLPipelineFeatureGenerator...\n",
      "\tAvailable Memory:                    1431.87 MB\n",
      "\tTrain Data (Original)  Memory Usage: 310.30 MB (21.7% of available memory)\n",
      "\tWarning: Data size prior to feature transformation consumes 21.7% of available memory. Consider increasing memory or subsampling the data to avoid instability.\n",
      "\tInferring data type of each feature based on column values. Set feature_metadata_in to manually specify special dtypes of the features.\n",
      "\tStage 1 Generators:\n",
      "\t\tFitting AsTypeFeatureGenerator...\n",
      "\tStage 2 Generators:\n",
      "\t\tFitting FillNaFeatureGenerator...\n",
      "\tStage 3 Generators:\n",
      "\t\tFitting IdentityFeatureGenerator...\n",
      "\t\tFitting CategoryFeatureGenerator...\n",
      "\t\t\tFitting CategoryMemoryMinimizeFeatureGenerator...\n",
      "\tStage 4 Generators:\n",
      "\t\tFitting DropUniqueFeatureGenerator...\n",
      "\tStage 5 Generators:\n",
      "\t\tFitting DropDuplicatesFeatureGenerator...\n",
      "\tTypes of features in original data (raw dtype, special dtypes):\n",
      "\t\t('float', [])  : 4 | ['Episode_Length_minutes', 'Host_Popularity_percentage', 'Guest_Popularity_percentage', 'Number_of_Ads']\n",
      "\t\t('int', [])    : 1 | ['id']\n",
      "\t\t('object', []) : 6 | ['Podcast_Name', 'Episode_Title', 'Genre', 'Publication_Day', 'Publication_Time', ...]\n",
      "\tTypes of features in processed data (raw dtype, special dtypes):\n",
      "\t\t('category', []) : 6 | ['Podcast_Name', 'Episode_Title', 'Genre', 'Publication_Day', 'Publication_Time', ...]\n",
      "\t\t('float', [])    : 4 | ['Episode_Length_minutes', 'Host_Popularity_percentage', 'Guest_Popularity_percentage', 'Number_of_Ads']\n",
      "\t\t('int', [])      : 1 | ['id']\n",
      "\t2.3s = Fit runtime\n",
      "\t11 features in original data used to generate 11 features in processed data.\n",
      "\tTrain Data (Processed) Memory Usage: 32.91 MB (2.4% of available memory)\n",
      "Data preprocessing and feature engineering runtime = 2.5s ...\n",
      "AutoGluon will gauge predictive performance using evaluation metric: 'root_mean_squared_error'\n",
      "\tThis metric's sign has been flipped to adhere to being higher_is_better. The metric score can be multiplied by -1 to get the metric value.\n",
      "\tTo change this, specify the eval_metric parameter of Predictor()\n",
      "Automatically generating train/validation split with holdout_frac=0.01, Train Rows: 742500, Val Rows: 7500\n",
      "User-specified model hyperparameters to be fit:\n",
      "{\n",
      "\t'NN_TORCH': [{}],\n",
      "\t'GBM': [{'extra_trees': True, 'ag_args': {'name_suffix': 'XT'}}, {}, {'learning_rate': 0.03, 'num_leaves': 128, 'feature_fraction': 0.9, 'min_data_in_leaf': 3, 'ag_args': {'name_suffix': 'Large', 'priority': 0, 'hyperparameter_tune_kwargs': None}}],\n",
      "\t'CAT': [{}],\n",
      "\t'XGB': [{}],\n",
      "\t'FASTAI': [{}],\n",
      "\t'RF': [{'criterion': 'gini', 'ag_args': {'name_suffix': 'Gini', 'problem_types': ['binary', 'multiclass']}}, {'criterion': 'entropy', 'ag_args': {'name_suffix': 'Entr', 'problem_types': ['binary', 'multiclass']}}, {'criterion': 'squared_error', 'ag_args': {'name_suffix': 'MSE', 'problem_types': ['regression', 'quantile']}}],\n",
      "\t'XT': [{'criterion': 'gini', 'ag_args': {'name_suffix': 'Gini', 'problem_types': ['binary', 'multiclass']}}, {'criterion': 'entropy', 'ag_args': {'name_suffix': 'Entr', 'problem_types': ['binary', 'multiclass']}}, {'criterion': 'squared_error', 'ag_args': {'name_suffix': 'MSE', 'problem_types': ['regression', 'quantile']}}],\n",
      "\t'KNN': [{'weights': 'uniform', 'ag_args': {'name_suffix': 'Unif'}}, {'weights': 'distance', 'ag_args': {'name_suffix': 'Dist'}}],\n",
      "}\n",
      "Fitting 11 L1 models, fit_strategy=\"sequential\" ...\n",
      "Fitting model: KNeighborsUnif ...\n",
      "\t-18.1327\t = Validation score   (-root_mean_squared_error)\n",
      "\t6.88s\t = Training   runtime\n",
      "\t0.04s\t = Validation runtime\n",
      "Fitting model: KNeighborsDist ...\n",
      "\t-18.044\t = Validation score   (-root_mean_squared_error)\n",
      "\t1.51s\t = Training   runtime\n",
      "\t0.03s\t = Validation runtime\n",
      "Fitting model: LightGBMXT ...\n"
     ]
    },
    {
     "name": "stdout",
     "output_type": "stream",
     "text": [
      "[1000]\tvalid_set's rmse: 13.0538\n",
      "[2000]\tvalid_set's rmse: 13.0043\n",
      "[3000]\tvalid_set's rmse: 13.004\n",
      "[4000]\tvalid_set's rmse: 12.9797\n",
      "[5000]\tvalid_set's rmse: 12.9723\n",
      "[6000]\tvalid_set's rmse: 12.9654\n",
      "[7000]\tvalid_set's rmse: 12.9562\n",
      "[8000]\tvalid_set's rmse: 12.9427\n",
      "[9000]\tvalid_set's rmse: 12.9474\n",
      "[10000]\tvalid_set's rmse: 12.9385\n"
     ]
    },
    {
     "name": "stderr",
     "output_type": "stream",
     "text": [
      "\t-12.9377\t = Validation score   (-root_mean_squared_error)\n",
      "\t73.44s\t = Training   runtime\n",
      "\t0.69s\t = Validation runtime\n",
      "Fitting model: LightGBM ...\n"
     ]
    },
    {
     "name": "stdout",
     "output_type": "stream",
     "text": [
      "[1000]\tvalid_set's rmse: 12.9951\n",
      "[2000]\tvalid_set's rmse: 12.9474\n",
      "[3000]\tvalid_set's rmse: 12.9347\n",
      "[4000]\tvalid_set's rmse: 12.9287\n",
      "[5000]\tvalid_set's rmse: 12.9332\n"
     ]
    },
    {
     "name": "stderr",
     "output_type": "stream",
     "text": [
      "\t-12.9264\t = Validation score   (-root_mean_squared_error)\n",
      "\t36.2s\t = Training   runtime\n",
      "\t0.13s\t = Validation runtime\n",
      "Fitting model: RandomForestMSE ...\n",
      "\tWarning: Reducing model 'n_estimators' from 300 -> 185 due to low memory. Expected memory usage reduced from 24.29% -> 15.0% of available memory...\n",
      "\t-12.9389\t = Validation score   (-root_mean_squared_error)\n",
      "\t88.86s\t = Training   runtime\n",
      "\t0.05s\t = Validation runtime\n",
      "Fitting model: CatBoost ...\n",
      "Warning: Large model size may cause OOM error if training continues\n",
      "Warning: Early stopped model prior to optimal result to avoid OOM error. Please increase available memory to avoid subpar model quality.\n",
      "Available Memory: 711 MB, Estimated Model size: 843 MB\n",
      "\tRan low on memory, early stopping on iteration 1671.\n",
      "\t-13.1262\t = Validation score   (-root_mean_squared_error)\n",
      "\t580.08s\t = Training   runtime\n",
      "\t0.02s\t = Validation runtime\n",
      "Fitting model: ExtraTreesMSE ...\n",
      "\tWarning: Reducing model 'n_estimators' from 300 -> 124 due to low memory. Expected memory usage reduced from 36.01% -> 15.0% of available memory...\n",
      "\t-13.0361\t = Validation score   (-root_mean_squared_error)\n",
      "\t29.99s\t = Training   runtime\n",
      "\t0.04s\t = Validation runtime\n",
      "Fitting model: NeuralNetFastAI ...\n",
      "\t-13.2289\t = Validation score   (-root_mean_squared_error)\n",
      "\t301.51s\t = Training   runtime\n",
      "\t0.06s\t = Validation runtime\n",
      "Fitting model: XGBoost ...\n",
      "\t-13.0014\t = Validation score   (-root_mean_squared_error)\n",
      "\t28.49s\t = Training   runtime\n",
      "\t0.05s\t = Validation runtime\n",
      "Fitting model: NeuralNetTorch ...\n",
      "\t-13.4248\t = Validation score   (-root_mean_squared_error)\n",
      "\t219.84s\t = Training   runtime\n",
      "\t0.03s\t = Validation runtime\n",
      "Fitting model: LightGBMLarge ...\n"
     ]
    },
    {
     "name": "stdout",
     "output_type": "stream",
     "text": [
      "[1000]\tvalid_set's rmse: 12.8867\n",
      "[2000]\tvalid_set's rmse: 12.8449\n",
      "[3000]\tvalid_set's rmse: 12.8236\n",
      "[4000]\tvalid_set's rmse: 12.8101\n",
      "[5000]\tvalid_set's rmse: 12.7885\n",
      "[6000]\tvalid_set's rmse: 12.7795\n",
      "[7000]\tvalid_set's rmse: 12.7707\n",
      "[8000]\tvalid_set's rmse: 12.7499\n",
      "[9000]\tvalid_set's rmse: 12.7432\n",
      "[10000]\tvalid_set's rmse: 12.7357\n"
     ]
    },
    {
     "name": "stderr",
     "output_type": "stream",
     "text": [
      "\t-12.7353\t = Validation score   (-root_mean_squared_error)\n",
      "\t97.15s\t = Training   runtime\n",
      "\t1.02s\t = Validation runtime\n",
      "Fitting model: WeightedEnsemble_L2 ...\n",
      "\tEnsemble Weights: {'LightGBMLarge': 0.7, 'RandomForestMSE': 0.3}\n",
      "\t-12.6883\t = Validation score   (-root_mean_squared_error)\n",
      "\t0.02s\t = Training   runtime\n",
      "\t0.0s\t = Validation runtime\n",
      "AutoGluon training complete, total runtime = 1471.57s ... Best model: WeightedEnsemble_L2 | Estimated inference throughput: 6965.1 rows/s (7500 batch size)\n",
      "TabularPredictor saved. To load, use: predictor = TabularPredictor.load(\"c:\\Users\\admr0\\GitHub\\DatathonMaterials\\visualizations\\AutogluonModels\\ag-20250411_062141\")\n"
     ]
    }
   ],
   "source": [
    "df = pd.read_csv('../data/podcast_time.csv')\n",
    "predictor = TabularPredictor(label='Listening_Time_minutes').fit(train_data=df)"
   ]
  },
  {
   "cell_type": "code",
   "execution_count": 3,
   "id": "df07d5e7",
   "metadata": {},
   "outputs": [
    {
     "name": "stderr",
     "output_type": "stream",
     "text": [
      "Computing feature importance via permutation shuffling for 11 features using 5000 rows with 5 shuffle sets...\n",
      "\t107.96s\t= Expected runtime (21.59s per shuffle set)\n",
      "\t47.05s\t= Actual runtime (Completed 5 of 5 shuffle sets)\n"
     ]
    }
   ],
   "source": [
    "importances = predictor.feature_importance(df)"
   ]
  },
  {
   "cell_type": "code",
   "execution_count": 6,
   "id": "bfcefe7d",
   "metadata": {},
   "outputs": [
    {
     "data": {
      "image/png": "[encoded data removed]",
      "text/plain": [
       "<Figure size 1000x600 with 1 Axes>"
      ]
     },
     "metadata": {},
     "output_type": "display_data"
    }
   ],
   "source": [
    "top_features = importances\n",
    "\n",
    "plt.figure(figsize=(10, 6))\n",
    "sns.barplot(data=top_features, x='importance', y=top_features.index)\n",
    "plt.title('Top Feature Importances (Permutation)')\n",
    "plt.xlabel('Importance Score')\n",
    "plt.ylabel('Feature')\n",
    "plt.tight_layout()\n",
    "plt.show()"
   ]
  }
 ],
 "metadata": {
  "kernelspec": {
   "display_name": "venv",
   "language": "python",
   "name": "python3"
  },
  "language_info": {
   "codemirror_mode": {
    "name": "ipython",
    "version": 3
   },
   "file_extension": ".py",
   "mimetype": "text/x-python",
   "name": "python",
   "nbconvert_exporter": "python",
   "pygments_lexer": "ipython3",
   "version": "3.11.9"
  }
 },
 "nbformat": 4,
 "nbformat_minor": 5
}
